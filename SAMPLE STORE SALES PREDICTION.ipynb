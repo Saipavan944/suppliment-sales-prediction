{
 "cells": [
  {
   "cell_type": "code",
   "execution_count": 242,
   "id": "6af22a2c",
   "metadata": {},
   "outputs": [],
   "source": [
    "# importing the libraries\n",
    "import pandas as pd\n",
    "import numpy as np\n",
    "import seaborn as sns\n",
    "import matplotlib.pyplot as plt\n",
    "%matplotlib inline"
   ]
  },
  {
   "cell_type": "code",
   "execution_count": 243,
   "id": "f5286192",
   "metadata": {},
   "outputs": [],
   "source": [
    "#importing the train dataset\n",
    "train=pd.read_csv('TRAIN.csv')"
   ]
  },
  {
   "cell_type": "code",
   "execution_count": 244,
   "id": "eb957570",
   "metadata": {},
   "outputs": [],
   "source": [
    "#importing the test dataset\n",
    "test=pd.read_csv('TEST_FINAL.csv')"
   ]
  },
  {
   "cell_type": "code",
   "execution_count": 245,
   "id": "605dddb2",
   "metadata": {},
   "outputs": [
    {
     "data": {
      "text/plain": [
       "Index(['ID', 'Store_id', 'Store_Type', 'Location_Type', 'Region_Code', 'Date',\n",
       "       'Holiday', 'Discount', '#Order', 'Sales'],\n",
       "      dtype='object')"
      ]
     },
     "execution_count": 245,
     "metadata": {},
     "output_type": "execute_result"
    }
   ],
   "source": [
    "#checking what are the columns included in train dataset\n",
    "train.columns\n"
   ]
  },
  {
   "cell_type": "code",
   "execution_count": 246,
   "id": "90ae76f3",
   "metadata": {},
   "outputs": [
    {
     "data": {
      "text/plain": [
       "Index(['ID', 'Store_id', 'Store_Type', 'Location_Type', 'Region_Code', 'Date',\n",
       "       'Holiday', 'Discount'],\n",
       "      dtype='object')"
      ]
     },
     "execution_count": 246,
     "metadata": {},
     "output_type": "execute_result"
    }
   ],
   "source": [
    "#checking what are the columns included in test dataset \n",
    "test.columns"
   ]
  },
  {
   "cell_type": "code",
   "execution_count": 247,
   "id": "6b49711d",
   "metadata": {},
   "outputs": [
    {
     "name": "stdout",
     "output_type": "stream",
     "text": [
      "(22265, 8)\n",
      "(188340, 10)\n"
     ]
    }
   ],
   "source": [
    "#checking the shape of both test and train data sets\n",
    "print(test.shape)\n",
    "print(train.shape)"
   ]
  },
  {
   "cell_type": "code",
   "execution_count": 248,
   "id": "cdb255bb",
   "metadata": {},
   "outputs": [
    {
     "data": {
      "text/plain": [
       "ID               0\n",
       "Store_id         0\n",
       "Store_Type       0\n",
       "Location_Type    0\n",
       "Region_Code      0\n",
       "Date             0\n",
       "Holiday          0\n",
       "Discount         0\n",
       "#Order           0\n",
       "Sales            0\n",
       "dtype: int64"
      ]
     },
     "execution_count": 248,
     "metadata": {},
     "output_type": "execute_result"
    }
   ],
   "source": [
    "#checking whether the train dataset has missing/null values\n",
    "train.isnull().sum().sort_values(ascending=False)"
   ]
  },
  {
   "cell_type": "code",
   "execution_count": 249,
   "id": "8271d550",
   "metadata": {},
   "outputs": [
    {
     "data": {
      "text/plain": [
       "ID               0\n",
       "Store_id         0\n",
       "Store_Type       0\n",
       "Location_Type    0\n",
       "Region_Code      0\n",
       "Date             0\n",
       "Holiday          0\n",
       "Discount         0\n",
       "dtype: int64"
      ]
     },
     "execution_count": 249,
     "metadata": {},
     "output_type": "execute_result"
    }
   ],
   "source": [
    "#checking whether the test dataset has missing/null values\n",
    "test.isnull().sum().sort_values(ascending=False)"
   ]
  },
  {
   "cell_type": "code",
   "execution_count": 250,
   "id": "b60dd0e2",
   "metadata": {},
   "outputs": [
    {
     "data": {
      "text/plain": [
       "ID                object\n",
       "Store_id           int64\n",
       "Store_Type        object\n",
       "Location_Type     object\n",
       "Region_Code       object\n",
       "Date              object\n",
       "Holiday            int64\n",
       "Discount          object\n",
       "#Order             int64\n",
       "Sales            float64\n",
       "dtype: object"
      ]
     },
     "execution_count": 250,
     "metadata": {},
     "output_type": "execute_result"
    }
   ],
   "source": [
    "#checking the data types in the train dataset\n",
    "train.dtypes"
   ]
  },
  {
   "cell_type": "code",
   "execution_count": 251,
   "id": "d0a1f4bb",
   "metadata": {
    "scrolled": false
   },
   "outputs": [
    {
     "data": {
      "text/plain": [
       "ID               object\n",
       "Store_id          int64\n",
       "Store_Type       object\n",
       "Location_Type    object\n",
       "Region_Code      object\n",
       "Date             object\n",
       "Holiday           int64\n",
       "Discount         object\n",
       "dtype: object"
      ]
     },
     "execution_count": 251,
     "metadata": {},
     "output_type": "execute_result"
    }
   ],
   "source": [
    "#checking the data types in the test data\n",
    "test.dtypes"
   ]
  },
  {
   "cell_type": "code",
   "execution_count": 252,
   "id": "a53e316e",
   "metadata": {},
   "outputs": [],
   "source": [
    "train=train.drop('Date',axis=1)"
   ]
  },
  {
   "cell_type": "code",
   "execution_count": 253,
   "id": "4885d219",
   "metadata": {},
   "outputs": [],
   "source": [
    "#droping order column from the dataset\n",
    "train=train.drop('#Order',axis=1)"
   ]
  },
  {
   "cell_type": "code",
   "execution_count": 254,
   "id": "b367d7a6",
   "metadata": {},
   "outputs": [],
   "source": [
    "#droping date column from the dataset\n",
    "test=test.drop('Date',axis=1)"
   ]
  },
  {
   "cell_type": "code",
   "execution_count": 255,
   "id": "05993b0d",
   "metadata": {},
   "outputs": [],
   "source": [
    "#Adding the sales column to the dataset so that we can concatenate test and train dataset\n",
    "test['Sales']='test'"
   ]
  },
  {
   "cell_type": "code",
   "execution_count": 256,
   "id": "aa804ae6",
   "metadata": {},
   "outputs": [
    {
     "name": "stdout",
     "output_type": "stream",
     "text": [
      "(22265, 8)\n",
      "(188340, 8)\n"
     ]
    }
   ],
   "source": [
    "print(test.shape)\n",
    "print(train.shape)"
   ]
  },
  {
   "cell_type": "code",
   "execution_count": 257,
   "id": "56cf1381",
   "metadata": {},
   "outputs": [],
   "source": [
    "#combining the datasets \n",
    "combinedata=pd.concat([test,train],axis=0)"
   ]
  },
  {
   "cell_type": "code",
   "execution_count": 258,
   "id": "1ade6a61",
   "metadata": {},
   "outputs": [
    {
     "data": {
      "text/html": [
       "<div>\n",
       "<style scoped>\n",
       "    .dataframe tbody tr th:only-of-type {\n",
       "        vertical-align: middle;\n",
       "    }\n",
       "\n",
       "    .dataframe tbody tr th {\n",
       "        vertical-align: top;\n",
       "    }\n",
       "\n",
       "    .dataframe thead th {\n",
       "        text-align: right;\n",
       "    }\n",
       "</style>\n",
       "<table border=\"1\" class=\"dataframe\">\n",
       "  <thead>\n",
       "    <tr style=\"text-align: right;\">\n",
       "      <th></th>\n",
       "      <th>ID</th>\n",
       "      <th>Store_id</th>\n",
       "      <th>Store_Type</th>\n",
       "      <th>Location_Type</th>\n",
       "      <th>Region_Code</th>\n",
       "      <th>Holiday</th>\n",
       "      <th>Discount</th>\n",
       "      <th>Sales</th>\n",
       "    </tr>\n",
       "  </thead>\n",
       "  <tbody>\n",
       "    <tr>\n",
       "      <th>0</th>\n",
       "      <td>T1188341</td>\n",
       "      <td>171</td>\n",
       "      <td>S4</td>\n",
       "      <td>L2</td>\n",
       "      <td>R3</td>\n",
       "      <td>0</td>\n",
       "      <td>No</td>\n",
       "      <td>test</td>\n",
       "    </tr>\n",
       "    <tr>\n",
       "      <th>1</th>\n",
       "      <td>T1188342</td>\n",
       "      <td>172</td>\n",
       "      <td>S1</td>\n",
       "      <td>L1</td>\n",
       "      <td>R1</td>\n",
       "      <td>0</td>\n",
       "      <td>No</td>\n",
       "      <td>test</td>\n",
       "    </tr>\n",
       "    <tr>\n",
       "      <th>2</th>\n",
       "      <td>T1188343</td>\n",
       "      <td>173</td>\n",
       "      <td>S4</td>\n",
       "      <td>L2</td>\n",
       "      <td>R1</td>\n",
       "      <td>0</td>\n",
       "      <td>No</td>\n",
       "      <td>test</td>\n",
       "    </tr>\n",
       "    <tr>\n",
       "      <th>3</th>\n",
       "      <td>T1188344</td>\n",
       "      <td>174</td>\n",
       "      <td>S1</td>\n",
       "      <td>L1</td>\n",
       "      <td>R4</td>\n",
       "      <td>0</td>\n",
       "      <td>No</td>\n",
       "      <td>test</td>\n",
       "    </tr>\n",
       "    <tr>\n",
       "      <th>4</th>\n",
       "      <td>T1188345</td>\n",
       "      <td>170</td>\n",
       "      <td>S1</td>\n",
       "      <td>L1</td>\n",
       "      <td>R2</td>\n",
       "      <td>0</td>\n",
       "      <td>No</td>\n",
       "      <td>test</td>\n",
       "    </tr>\n",
       "  </tbody>\n",
       "</table>\n",
       "</div>"
      ],
      "text/plain": [
       "         ID  Store_id Store_Type Location_Type Region_Code  Holiday Discount  \\\n",
       "0  T1188341       171         S4            L2          R3        0       No   \n",
       "1  T1188342       172         S1            L1          R1        0       No   \n",
       "2  T1188343       173         S4            L2          R1        0       No   \n",
       "3  T1188344       174         S1            L1          R4        0       No   \n",
       "4  T1188345       170         S1            L1          R2        0       No   \n",
       "\n",
       "  Sales  \n",
       "0  test  \n",
       "1  test  \n",
       "2  test  \n",
       "3  test  \n",
       "4  test  "
      ]
     },
     "execution_count": 258,
     "metadata": {},
     "output_type": "execute_result"
    }
   ],
   "source": [
    "combinedata.head()"
   ]
  },
  {
   "cell_type": "code",
   "execution_count": 259,
   "id": "ae7462b5",
   "metadata": {
    "scrolled": false
   },
   "outputs": [],
   "source": [
    "#droping ID column because it has unique values \n",
    "combinedata=combinedata.drop('ID',axis=1)"
   ]
  },
  {
   "cell_type": "code",
   "execution_count": 260,
   "id": "ba6e208b",
   "metadata": {},
   "outputs": [],
   "source": [
    "#droping Store_id as it has unique values \n",
    "combinedata=combinedata.drop('Store_id',axis=1)"
   ]
  },
  {
   "cell_type": "code",
   "execution_count": 261,
   "id": "0e095534",
   "metadata": {},
   "outputs": [],
   "source": [
    "#spliting the object columns and numerical columns\n",
    "objectcolumns=combinedata.select_dtypes(include=['object'])\n",
    "numericalcolumns=combinedata.select_dtypes(include=np.number)"
   ]
  },
  {
   "cell_type": "code",
   "execution_count": 262,
   "id": "7d22ced0",
   "metadata": {},
   "outputs": [
    {
     "data": {
      "text/plain": [
       "Index(['Store_Type', 'Location_Type', 'Region_Code', 'Discount', 'Sales'], dtype='object')"
      ]
     },
     "execution_count": 262,
     "metadata": {},
     "output_type": "execute_result"
    }
   ],
   "source": [
    "#checking the columns included in the object columns\n",
    "objectcolumns.columns"
   ]
  },
  {
   "cell_type": "code",
   "execution_count": 263,
   "id": "b209c609",
   "metadata": {},
   "outputs": [
    {
     "data": {
      "text/plain": [
       "Index(['Holiday'], dtype='object')"
      ]
     },
     "execution_count": 263,
     "metadata": {},
     "output_type": "execute_result"
    }
   ],
   "source": [
    "#checking the columns included in the numerical columns\n",
    "numericalcolumns.columns"
   ]
  },
  {
   "cell_type": "code",
   "execution_count": 264,
   "id": "d85d6a34",
   "metadata": {},
   "outputs": [
    {
     "name": "stderr",
     "output_type": "stream",
     "text": [
      "<ipython-input-264-0a5b1957434b>:2: SettingWithCopyWarning: \n",
      "A value is trying to be set on a copy of a slice from a DataFrame.\n",
      "Try using .loc[row_indexer,col_indexer] = value instead\n",
      "\n",
      "See the caveats in the documentation: https://pandas.pydata.org/pandas-docs/stable/user_guide/indexing.html#returning-a-view-versus-a-copy\n",
      "  numericalcolumns['Sales']=objectcolumns.Sales\n"
     ]
    }
   ],
   "source": [
    "# Added Sales Column to Numerical Data which was in Object Data\n",
    "numericalcolumns['Sales']=objectcolumns.Sales"
   ]
  },
  {
   "cell_type": "code",
   "execution_count": 265,
   "id": "89aa9c9b",
   "metadata": {},
   "outputs": [],
   "source": [
    "# Drop Sales Column from Objectcolumns as it is added to Numericalcolumns\n",
    "objectcolumns=objectcolumns.drop('Sales',axis=1)"
   ]
  },
  {
   "cell_type": "code",
   "execution_count": 266,
   "id": "eaf74d27",
   "metadata": {},
   "outputs": [],
   "source": [
    "#importing  holiday column to categorical from numerical \n",
    "categorycolumns=numericalcolumns[['Holiday']]"
   ]
  },
  {
   "cell_type": "code",
   "execution_count": 267,
   "id": "3b4a7a4b",
   "metadata": {},
   "outputs": [],
   "source": [
    "## Drop holiday Column from numericalcolumns as it is added to categorycolumns\n",
    "numericalcolumns=numericalcolumns.drop(['Holiday'],axis=1)"
   ]
  },
  {
   "cell_type": "code",
   "execution_count": 268,
   "id": "a1fd432d",
   "metadata": {},
   "outputs": [
    {
     "name": "stdout",
     "output_type": "stream",
     "text": [
      "(210605, 4)\n",
      "(210605, 1)\n",
      "(210605, 1)\n"
     ]
    }
   ],
   "source": [
    "print(objectcolumns.shape)\n",
    "print(numericalcolumns.shape)\n",
    "print(categorycolumns.shape)\n",
    "# Number of Object Columns - 4\n",
    "# Number of Numeric Columns - 1\n",
    "# Number of Categorical Columns - 1"
   ]
  },
  {
   "cell_type": "code",
   "execution_count": 269,
   "id": "1daa607e",
   "metadata": {},
   "outputs": [
    {
     "data": {
      "text/plain": [
       "Index(['Holiday'], dtype='object')"
      ]
     },
     "execution_count": 269,
     "metadata": {},
     "output_type": "execute_result"
    }
   ],
   "source": [
    "categorycolumns.columns"
   ]
  },
  {
   "cell_type": "code",
   "execution_count": 271,
   "id": "3fd8feaf",
   "metadata": {},
   "outputs": [
    {
     "data": {
      "text/plain": [
       "<AxesSubplot:ylabel='Location_Type'>"
      ]
     },
     "execution_count": 271,
     "metadata": {},
     "output_type": "execute_result"
    },
    {
     "data": {
      "image/png": "[encoded data removed]",
      "text/plain": [
       "<Figure size 432x288 with 1 Axes>"
      ]
     },
     "metadata": {},
     "output_type": "display_data"
    }
   ],
   "source": [
    "#plotting piechart for Location type\n",
    "combinedata.Location_Type.value_counts().plot(kind='pie')"
   ]
  },
  {
   "cell_type": "code",
   "execution_count": 272,
   "id": "ac42166f",
   "metadata": {},
   "outputs": [],
   "source": [
    "from sklearn.preprocessing import LabelEncoder"
   ]
  },
  {
   "cell_type": "code",
   "execution_count": 273,
   "id": "4ff6a72c",
   "metadata": {},
   "outputs": [],
   "source": [
    "le=LabelEncoder()"
   ]
  },
  {
   "cell_type": "code",
   "execution_count": 274,
   "id": "a2752bbf",
   "metadata": {},
   "outputs": [],
   "source": [
    "# Label Encode or Dummy Varible Encoding of Object Cols\n",
    "objectcolumnsdummy=objectcolumns.apply(le.fit_transform)"
   ]
  },
  {
   "cell_type": "code",
   "execution_count": 275,
   "id": "4c0031ac",
   "metadata": {},
   "outputs": [],
   "source": [
    "# Label Encode or Dummy Varible Encoding of Category Cols\n",
    "categorycolumnsdummy=categorycolumns.apply(le.fit_transform)"
   ]
  },
  {
   "cell_type": "code",
   "execution_count": 276,
   "id": "35f175a4",
   "metadata": {},
   "outputs": [],
   "source": [
    "# Concatinating all 3 dataframes - numericcols, objectcolsdummy & \n",
    "# categorycolsdummy into one Dataframe\n",
    "combinedataclean=pd.concat([numericalcolumns,objectcolumnsdummy,\n",
    "                         categorycolumnsdummy],axis=1)"
   ]
  },
  {
   "cell_type": "code",
   "execution_count": 277,
   "id": "7075c8f5",
   "metadata": {},
   "outputs": [
    {
     "data": {
      "text/html": [
       "<div>\n",
       "<style scoped>\n",
       "    .dataframe tbody tr th:only-of-type {\n",
       "        vertical-align: middle;\n",
       "    }\n",
       "\n",
       "    .dataframe tbody tr th {\n",
       "        vertical-align: top;\n",
       "    }\n",
       "\n",
       "    .dataframe thead th {\n",
       "        text-align: right;\n",
       "    }\n",
       "</style>\n",
       "<table border=\"1\" class=\"dataframe\">\n",
       "  <thead>\n",
       "    <tr style=\"text-align: right;\">\n",
       "      <th></th>\n",
       "      <th>Sales</th>\n",
       "      <th>Store_Type</th>\n",
       "      <th>Location_Type</th>\n",
       "      <th>Region_Code</th>\n",
       "      <th>Discount</th>\n",
       "      <th>Holiday</th>\n",
       "    </tr>\n",
       "  </thead>\n",
       "  <tbody>\n",
       "    <tr>\n",
       "      <th>0</th>\n",
       "      <td>test</td>\n",
       "      <td>3</td>\n",
       "      <td>1</td>\n",
       "      <td>2</td>\n",
       "      <td>0</td>\n",
       "      <td>0</td>\n",
       "    </tr>\n",
       "    <tr>\n",
       "      <th>1</th>\n",
       "      <td>test</td>\n",
       "      <td>0</td>\n",
       "      <td>0</td>\n",
       "      <td>0</td>\n",
       "      <td>0</td>\n",
       "      <td>0</td>\n",
       "    </tr>\n",
       "    <tr>\n",
       "      <th>2</th>\n",
       "      <td>test</td>\n",
       "      <td>3</td>\n",
       "      <td>1</td>\n",
       "      <td>0</td>\n",
       "      <td>0</td>\n",
       "      <td>0</td>\n",
       "    </tr>\n",
       "    <tr>\n",
       "      <th>3</th>\n",
       "      <td>test</td>\n",
       "      <td>0</td>\n",
       "      <td>0</td>\n",
       "      <td>3</td>\n",
       "      <td>0</td>\n",
       "      <td>0</td>\n",
       "    </tr>\n",
       "    <tr>\n",
       "      <th>4</th>\n",
       "      <td>test</td>\n",
       "      <td>0</td>\n",
       "      <td>0</td>\n",
       "      <td>1</td>\n",
       "      <td>0</td>\n",
       "      <td>0</td>\n",
       "    </tr>\n",
       "  </tbody>\n",
       "</table>\n",
       "</div>"
      ],
      "text/plain": [
       "  Sales  Store_Type  Location_Type  Region_Code  Discount  Holiday\n",
       "0  test           3              1            2         0        0\n",
       "1  test           0              0            0         0        0\n",
       "2  test           3              1            0         0        0\n",
       "3  test           0              0            3         0        0\n",
       "4  test           0              0            1         0        0"
      ]
     },
     "execution_count": 277,
     "metadata": {},
     "output_type": "execute_result"
    }
   ],
   "source": [
    "combinedataclean.head()"
   ]
  },
  {
   "cell_type": "code",
   "execution_count": 278,
   "id": "e7bcca9c",
   "metadata": {},
   "outputs": [],
   "source": [
    "traindf=combinedataclean[combinedataclean.Sales!='test']\n",
    "testdf=combinedataclean[combinedataclean.Sales=='test']"
   ]
  },
  {
   "cell_type": "code",
   "execution_count": 279,
   "id": "23218b9c",
   "metadata": {},
   "outputs": [],
   "source": [
    "testdf=testdf.drop('Sales',axis=1)"
   ]
  },
  {
   "cell_type": "code",
   "execution_count": 280,
   "id": "ea4fd831",
   "metadata": {},
   "outputs": [
    {
     "data": {
      "text/plain": [
       "<AxesSubplot:>"
      ]
     },
     "execution_count": 280,
     "metadata": {},
     "output_type": "execute_result"
    },
    {
     "data": {
      "image/png": "[encoded data removed]",
      "text/plain": [
       "<Figure size 432x288 with 2 Axes>"
      ]
     },
     "metadata": {
      "needs_background": "light"
     },
     "output_type": "display_data"
    }
   ],
   "source": [
    "#heatmap of traindf data\n",
    "sns.heatmap(traindf.corr(),annot=True)"
   ]
  },
  {
   "cell_type": "code",
   "execution_count": 281,
   "id": "2dfe2546",
   "metadata": {},
   "outputs": [
    {
     "data": {
      "text/plain": [
       "<AxesSubplot:>"
      ]
     },
     "execution_count": 281,
     "metadata": {},
     "output_type": "execute_result"
    },
    {
     "data": {
      "image/png": "[encoded data removed]",
      "text/plain": [
       "<Figure size 432x288 with 2 Axes>"
      ]
     },
     "metadata": {
      "needs_background": "light"
     },
     "output_type": "display_data"
    }
   ],
   "source": [
    "#heatmap of testdf data\n",
    "sns.heatmap(testdf.corr(),annot=True)"
   ]
  },
  {
   "cell_type": "code",
   "execution_count": 282,
   "id": "7d7f4f00",
   "metadata": {},
   "outputs": [
    {
     "data": {
      "text/plain": [
       "<AxesSubplot:>"
      ]
     },
     "execution_count": 282,
     "metadata": {},
     "output_type": "execute_result"
    },
    {
     "data": {
      "image/png": "[encoded data removed]",
      "text/plain": [
       "<Figure size 432x288 with 1 Axes>"
      ]
     },
     "metadata": {
      "needs_background": "light"
     },
     "output_type": "display_data"
    }
   ],
   "source": [
    "#line plot of Sales data\n",
    "traindf.Sales.plot(kind='line')"
   ]
  },
  {
   "cell_type": "code",
   "execution_count": 283,
   "id": "3887ea6b",
   "metadata": {},
   "outputs": [
    {
     "data": {
      "text/plain": [
       "<AxesSubplot:>"
      ]
     },
     "execution_count": 283,
     "metadata": {},
     "output_type": "execute_result"
    },
    {
     "data": {
      "image/png": "[encoded data removed]",
      "text/plain": [
       "<Figure size 432x288 with 1 Axes>"
      ]
     },
     "metadata": {
      "needs_background": "light"
     },
     "output_type": "display_data"
    }
   ],
   "source": [
    "#boxplot of sales\n",
    "traindf.Sales.plot(kind='box')"
   ]
  },
  {
   "cell_type": "code",
   "execution_count": 284,
   "id": "ea80f10c",
   "metadata": {
    "scrolled": false
   },
   "outputs": [
    {
     "name": "stderr",
     "output_type": "stream",
     "text": [
      "C:\\Users\\xyz\\anaconda3\\lib\\site-packages\\seaborn\\distributions.py:2557: FutureWarning: `distplot` is a deprecated function and will be removed in a future version. Please adapt your code to use either `displot` (a figure-level function with similar flexibility) or `histplot` (an axes-level function for histograms).\n",
      "  warnings.warn(msg, FutureWarning)\n"
     ]
    },
    {
     "data": {
      "text/plain": [
       "<AxesSubplot:xlabel='Sales', ylabel='Density'>"
      ]
     },
     "execution_count": 284,
     "metadata": {},
     "output_type": "execute_result"
    },
    {
     "data": {
      "image/png": "[encoded data removed]",
      "text/plain": [
       "<Figure size 432x288 with 1 Axes>"
      ]
     },
     "metadata": {
      "needs_background": "light"
     },
     "output_type": "display_data"
    }
   ],
   "source": [
    "#distplot of sales\n",
    "sns.distplot(traindf.Sales)"
   ]
  },
  {
   "cell_type": "code",
   "execution_count": 285,
   "id": "42c1ee24",
   "metadata": {
    "scrolled": true
   },
   "outputs": [
    {
     "name": "stdout",
     "output_type": "stream",
     "text": [
      "(188340, 6)\n",
      "(22265, 5)\n"
     ]
    }
   ],
   "source": [
    "print(traindf.shape)\n",
    "print(testdf.shape)"
   ]
  },
  {
   "cell_type": "code",
   "execution_count": 286,
   "id": "4656c1a0",
   "metadata": {
    "scrolled": true
   },
   "outputs": [
    {
     "name": "stderr",
     "output_type": "stream",
     "text": [
      "C:\\Users\\xyz\\anaconda3\\lib\\site-packages\\pandas\\core\\generic.py:5494: SettingWithCopyWarning: \n",
      "A value is trying to be set on a copy of a slice from a DataFrame.\n",
      "Try using .loc[row_indexer,col_indexer] = value instead\n",
      "\n",
      "See the caveats in the documentation: https://pandas.pydata.org/pandas-docs/stable/user_guide/indexing.html#returning-a-view-versus-a-copy\n",
      "  self[name] = value\n"
     ]
    }
   ],
   "source": [
    "traindf.Sales=traindf.Sales.astype('float64')"
   ]
  },
  {
   "cell_type": "code",
   "execution_count": 287,
   "id": "18357604",
   "metadata": {},
   "outputs": [],
   "source": [
    "# Split Data into DependentVariable(y) & Independent Variables (Xs)\n",
    "y=traindf.Sales\n",
    "X=traindf.drop(['Sales'],axis=1)"
   ]
  },
  {
   "cell_type": "code",
   "execution_count": 288,
   "id": "fb49bf32",
   "metadata": {},
   "outputs": [],
   "source": [
    "#Linear Regression\n",
    "from sklearn.linear_model import LinearRegression"
   ]
  },
  {
   "cell_type": "code",
   "execution_count": 289,
   "id": "554467bb",
   "metadata": {},
   "outputs": [],
   "source": [
    "linreg=LinearRegression()"
   ]
  },
  {
   "cell_type": "code",
   "execution_count": 290,
   "id": "ed8f4889",
   "metadata": {},
   "outputs": [],
   "source": [
    "#model building for linear regression\n",
    "linregmodel=linreg.fit(X,y)"
   ]
  },
  {
   "cell_type": "code",
   "execution_count": 291,
   "id": "b2ff1ec7",
   "metadata": {},
   "outputs": [
    {
     "data": {
      "text/plain": [
       "0.42879687720564796"
      ]
     },
     "execution_count": 291,
     "metadata": {},
     "output_type": "execute_result"
    }
   ],
   "source": [
    "linregmodel.score(X,y) #R-Square"
   ]
  },
  {
   "cell_type": "code",
   "execution_count": 292,
   "id": "d5f664e2",
   "metadata": {},
   "outputs": [],
   "source": [
    "#prediction of test data\n",
    "regpredict=linregmodel.predict(testdf)"
   ]
  },
  {
   "cell_type": "code",
   "execution_count": 293,
   "id": "23b57917",
   "metadata": {},
   "outputs": [],
   "source": [
    "#converting data to csv file\n",
    "pd.DataFrame(regpredict).to_csv('reg.csv')"
   ]
  },
  {
   "cell_type": "code",
   "execution_count": 294,
   "id": "0929adf6",
   "metadata": {},
   "outputs": [],
   "source": [
    "#Decision Tree Regressor\n",
    "from sklearn.tree import DecisionTreeRegressor"
   ]
  },
  {
   "cell_type": "code",
   "execution_count": 295,
   "id": "70b6556e",
   "metadata": {},
   "outputs": [],
   "source": [
    "tree=DecisionTreeRegressor()"
   ]
  },
  {
   "cell_type": "code",
   "execution_count": 296,
   "id": "51f21f7b",
   "metadata": {},
   "outputs": [],
   "source": [
    "#model building for decision tree regressor\n",
    "treemodel=tree.fit(X,y)"
   ]
  },
  {
   "cell_type": "code",
   "execution_count": 297,
   "id": "cf627362",
   "metadata": {},
   "outputs": [
    {
     "data": {
      "text/plain": [
       "0.5696791425498942"
      ]
     },
     "execution_count": 297,
     "metadata": {},
     "output_type": "execute_result"
    }
   ],
   "source": [
    "#R-Square\n",
    "treemodel.score(X,y)"
   ]
  },
  {
   "cell_type": "code",
   "execution_count": 298,
   "id": "8eeeea83",
   "metadata": {},
   "outputs": [],
   "source": [
    "#prediction of test data\n",
    "treepredict=treemodel.predict(testdf)"
   ]
  },
  {
   "cell_type": "code",
   "execution_count": 299,
   "id": "76f5a760",
   "metadata": {},
   "outputs": [],
   "source": [
    "#converting data to csv file\n",
    "pd.DataFrame(treepredict).to_csv('tree.csv')"
   ]
  },
  {
   "cell_type": "code",
   "execution_count": 300,
   "id": "d393aaf6",
   "metadata": {},
   "outputs": [],
   "source": [
    "#RandomForest Regressor\n",
    "from sklearn.ensemble import RandomForestRegressor"
   ]
  },
  {
   "cell_type": "code",
   "execution_count": 301,
   "id": "4a80c112",
   "metadata": {},
   "outputs": [],
   "source": [
    "RF=RandomForestRegressor(n_estimators=1000)"
   ]
  },
  {
   "cell_type": "code",
   "execution_count": 302,
   "id": "9f43633f",
   "metadata": {},
   "outputs": [],
   "source": [
    "#model building for randomForestRegressor\n",
    "RFmodel=RF.fit(X,y)"
   ]
  },
  {
   "cell_type": "code",
   "execution_count": 303,
   "id": "c4fcad04",
   "metadata": {},
   "outputs": [
    {
     "data": {
      "text/plain": [
       "0.5696786820088073"
      ]
     },
     "execution_count": 303,
     "metadata": {},
     "output_type": "execute_result"
    }
   ],
   "source": [
    "#R-Square\n",
    "RFmodel.score(X,y)"
   ]
  },
  {
   "cell_type": "code",
   "execution_count": 304,
   "id": "e57d5d99",
   "metadata": {},
   "outputs": [],
   "source": [
    "#predicting for the test data\n",
    "Rfpredict=RFmodel.predict(testdf)"
   ]
  },
  {
   "cell_type": "code",
   "execution_count": 305,
   "id": "1b8a6030",
   "metadata": {},
   "outputs": [],
   "source": [
    "#converting data file to csv file\n",
    "pd.DataFrame(Rfpredict).to_csv('RF.csv')#score=245.069111623465"
   ]
  },
  {
   "cell_type": "code",
   "execution_count": 306,
   "id": "187642df",
   "metadata": {},
   "outputs": [],
   "source": [
    "#GradientBoostingRegressor\n",
    "from sklearn.ensemble import GradientBoostingRegressor"
   ]
  },
  {
   "cell_type": "code",
   "execution_count": 307,
   "id": "56577c0f",
   "metadata": {},
   "outputs": [],
   "source": [
    "gbm=GradientBoostingRegressor(n_estimators=1000)"
   ]
  },
  {
   "cell_type": "code",
   "execution_count": 308,
   "id": "cab11670",
   "metadata": {},
   "outputs": [],
   "source": [
    "#model building for GradientBoostingRegressor\n",
    "gbmmodel=gbm.fit(X,y)"
   ]
  },
  {
   "cell_type": "code",
   "execution_count": 309,
   "id": "73efa257",
   "metadata": {},
   "outputs": [
    {
     "data": {
      "text/plain": [
       "0.5683047213031687"
      ]
     },
     "execution_count": 309,
     "metadata": {},
     "output_type": "execute_result"
    }
   ],
   "source": [
    "gbmmodel.score(X,y)"
   ]
  },
  {
   "cell_type": "code",
   "execution_count": 310,
   "id": "1130bbd8",
   "metadata": {},
   "outputs": [],
   "source": [
    "#predicting model for test data\n",
    "gbmpredict=gbmmodel.predict(testdf)"
   ]
  },
  {
   "cell_type": "code",
   "execution_count": 311,
   "id": "5588781a",
   "metadata": {},
   "outputs": [],
   "source": [
    "#converting data file to csv file\n",
    "pd.DataFrame(gbmpredict).to_csv('GBM.csv')#score=245.67402292366117"
   ]
  },
  {
   "cell_type": "code",
   "execution_count": 313,
   "id": "72b75beb",
   "metadata": {},
   "outputs": [],
   "source": [
    "#XGBoosting\n",
    "from xgboost import XGBRegressor"
   ]
  },
  {
   "cell_type": "code",
   "execution_count": 314,
   "id": "f250a91f",
   "metadata": {},
   "outputs": [],
   "source": [
    "xgb=XGBRegressor(n_estimators=1000,learning_rate=0.9,max_depth=6,min_child_weight=0.5)"
   ]
  },
  {
   "cell_type": "code",
   "execution_count": 315,
   "id": "2b00e7b0",
   "metadata": {},
   "outputs": [],
   "source": [
    "#model building for XGBoosting\n",
    "xgbmodel=xgb.fit(X,y)"
   ]
  },
  {
   "cell_type": "code",
   "execution_count": 316,
   "id": "96c2c001",
   "metadata": {},
   "outputs": [
    {
     "data": {
      "text/plain": [
       "0.5696791425496603"
      ]
     },
     "execution_count": 316,
     "metadata": {},
     "output_type": "execute_result"
    }
   ],
   "source": [
    "#R-Square\n",
    "xgbmodel.score(X,y)"
   ]
  },
  {
   "cell_type": "code",
   "execution_count": 317,
   "id": "057882b1",
   "metadata": {},
   "outputs": [],
   "source": [
    "#predicting data for the test data\n",
    "xgbpredict=xgbmodel.predict(testdf)"
   ]
  },
  {
   "cell_type": "code",
   "execution_count": 318,
   "id": "81107c16",
   "metadata": {},
   "outputs": [],
   "source": [
    "#converting data into \n",
    "pd.DataFrame(xgbpredict).to_csv('XGB.csv')# 245.06913116687045"
   ]
  },
  {
   "cell_type": "code",
   "execution_count": null,
   "id": "21cee9be",
   "metadata": {},
   "outputs": [],
   "source": []
  }
 ],
 "metadata": {
  "kernelspec": {
   "display_name": "Python 3",
   "language": "python",
   "name": "python3"
  },
  "language_info": {
   "codemirror_mode": {
    "name": "ipython",
    "version": 3
   },
   "file_extension": ".py",
   "mimetype": "text/x-python",
   "name": "python",
   "nbconvert_exporter": "python",
   "pygments_lexer": "ipython3",
   "version": "3.8.8"
  }
 },
 "nbformat": 4,
 "nbformat_minor": 5
}
